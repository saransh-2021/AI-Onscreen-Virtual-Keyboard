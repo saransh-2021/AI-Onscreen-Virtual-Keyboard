{
 "cells": [
  {
   "cell_type": "code",
   "execution_count": null,
   "metadata": {},
   "outputs": [],
   "source": [
    "!pip install -r requirements.txt"
   ]
  },
  {
   "cell_type": "code",
   "execution_count": 2,
   "metadata": {},
   "outputs": [],
   "source": [
    "# Import the libraries\n",
    "import cv2\n",
    "import mediapipe as mp\n",
    "import pyautogui as pt\n",
    "import numpy as np"
   ]
  },
  {
   "cell_type": "code",
   "execution_count": 3,
   "metadata": {},
   "outputs": [],
   "source": [
    "# Function to check if two points are close\n",
    "def is_point_close(pt1, pt2):\n",
    "    return ((pt1[0] - pt2[0]) ** 2 + (pt1[1] - pt2[1]) ** 2) ** 0.5 "
   ]
  },
  {
   "cell_type": "code",
   "execution_count": 4,
   "metadata": {},
   "outputs": [],
   "source": [
    "def create_gradient(start_color, end_color, size):\n",
    "    start_color = np.array(start_color, dtype=np.uint8)\n",
    "    end_color = np.array(end_color, dtype=np.uint8)\n",
    "    return np.array([np.linspace(start_color[i], end_color[i], size[1]) for i in range(3)], dtype=np.uint8).T"
   ]
  },
  {
   "cell_type": "code",
   "execution_count": 5,
   "metadata": {},
   "outputs": [],
   "source": [
    "# Function to check if a point is inside a rectangle\n",
    "def is_point_inside_rect(pt, rect):\n",
    "    x, y, w, h = rect\n",
    "    return x <= pt[0] <= x + w and y <= pt[1] <= y + h"
   ]
  },
  {
   "cell_type": "code",
   "execution_count": 6,
   "metadata": {},
   "outputs": [],
   "source": [
    "# Function to draw a rectangle around the key\n",
    "def draw_key_rect(image, key_rect, start_color=(100, 255, 0), end_color=(255, 0, 0), thickness=-1):\n",
    "    x, y, w, h = key_rect\n",
    "    gradient = create_gradient(start_color, end_color, (h, w))\n",
    "    if thickness == -1:\n",
    "        image_slice = image[y:y+h, x:x+w]\n",
    "        if image_slice.shape[:2] == gradient.shape:\n",
    "            image[y:y+h, x:x+w] = cv2.addWeighted(image_slice, 0.5, cv2.cvtColor(gradient, cv2.COLOR_RGB2BGR), 0.5, 0)\n",
    "    else:\n",
    "        cv2.rectangle(image, (x, y), (x + w, y + h), end_color, thickness)"
   ]
  },
  {
   "cell_type": "code",
   "execution_count": 7,
   "metadata": {},
   "outputs": [],
   "source": [
    "# Main function\n",
    "def main():\n",
    "    mp_hands = mp.solutions.hands\n",
    "    hands = mp_hands.Hands()\n",
    "    cap = cv2.VideoCapture(0)\n",
    "    keys = ['q', 'w', 'e', 'r', 't', 'y', 'u', 'i', 'o', 'p',\n",
    "        'a', 's', 'd', 'f', 'g', 'h', 'j', 'k', 'l', '\"',\n",
    "        'z', 'x', 'c', 'v', 'b', 'n', 'm', ',', '.', '?']\n",
    "    key_coords = {}\n",
    "\n",
    "    # Define the start positions and the step for x and y\n",
    "    x_start, x_step = 15, 60\n",
    "    y_start, y_step = 15, 60\n",
    "\n",
    "    # Define the width and height of the keys\n",
    "    width, height = 50, 50\n",
    "\n",
    "    # Define the number of keys per row\n",
    "    keys_per_row = [10, 10, 10]\n",
    "\n",
    "    # Generate the keys and their rectangles\n",
    "    key_index = 0\n",
    "    for row, k in enumerate(keys_per_row):\n",
    "        for i in range(k):\n",
    "            key = keys[key_index]\n",
    "            x = x_start + i * x_step\n",
    "            y = y_start + row * y_step\n",
    "            key_coords[key] = (x, y, width, height)\n",
    "            key_index += 1\n",
    "\n",
    "    # keys is a dictionary that maps a key name to a tuple of (x, y, width, height)\n",
    "    keys = {'capslock': (x_start, y_start + 3 * y_step, width*3, height), \n",
    "        ' ': (int(x_start + width*3.3), y_start + 3 * y_step, width*2, height), \n",
    "        'Enter': (int(x_start + width*5.3), y_start + 3 * y_step, width*2, height), \n",
    "        'backspace': (int(x_start + width*7.3), y_start + 3 * y_step, width*4, height),\n",
    "        'up': (x_start + 4 * width, y_start + 4 * y_step, width, height),\n",
    "        'down': (x_start + 5 * width, y_start + 4 * y_step, width, height),\n",
    "        'left': (x_start + 6 * width, y_start + 4 * y_step, width, height),\n",
    "        'right': (x_start + 7 * width, y_start + 4 * y_step, width, height),\n",
    "        'esc': (x_start + 5 * width, y_start + 5 * y_step, width * 2, height)}\n",
    "    key_coords.update(keys)\n",
    "\n",
    "    while cap.isOpened():\n",
    "        ret, frame = cap.read()\n",
    "        if not ret:\n",
    "            break\n",
    "\n",
    "        # Flip the frame horizontally for a later selfie-view display\n",
    "        frame = cv2.flip(frame, 1)\n",
    "\n",
    "        # Convert the BGR image to RGB\n",
    "        rgb_frame = cv2.cvtColor(frame, cv2.COLOR_BGR2RGB)\n",
    "\n",
    "        # Process the frame with Mediapipe hands\n",
    "        result = hands.process(rgb_frame)\n",
    "\n",
    "        # Draw the keys\n",
    "        for key, key_rect in key_coords.items():\n",
    "            draw_key_rect(frame, key_rect, start_color=(255, 182, 193), end_color=(255, 105, 180), thickness=-1)\n",
    "            cv2.putText(frame, key, (key_rect[0] + 10, key_rect[1] + 30), cv2.FONT_HERSHEY_SIMPLEX, 0.5, (0, 0, 0), 2)\n",
    "\n",
    "        # Check if hands are detected\n",
    "        if result.multi_hand_landmarks:\n",
    "            for hand_landmarks in result.multi_hand_landmarks:\n",
    "                # Get the position of the index finger tip\n",
    "                index_finger_tip = (\n",
    "                    hand_landmarks.landmark[mp_hands.HandLandmark.INDEX_FINGER_TIP].x * frame.shape[1],\n",
    "                    hand_landmarks.landmark[mp_hands.HandLandmark.INDEX_FINGER_TIP].y * frame.shape[0]\n",
    "                )\n",
    "                middle_finger_tip = (\n",
    "                    hand_landmarks.landmark[mp_hands.HandLandmark.MIDDLE_FINGER_TIP].x * frame.shape[1],\n",
    "                    hand_landmarks.landmark[mp_hands.HandLandmark.MIDDLE_FINGER_TIP].y * frame.shape[0]\n",
    "                )\n",
    "                distance = is_point_close(index_finger_tip, middle_finger_tip)\n",
    "\n",
    "                # Check if the distance is close to zero\n",
    "                if distance < 15:  # you can adjust this threshold as needed\n",
    "                    for key, key_rect in key_coords.items():\n",
    "                        if is_point_inside_rect(index_finger_tip, key_rect):\n",
    "                            # Draw the key rectangle and label\n",
    "                            # draw_key_rect(frame, key_rect, color=(0, 255, 0), thickness=1)\n",
    "                            draw_key_rect(frame, key_rect, start_color=(25, 68, 0), end_color=(255, 0, 0), thickness=1)\n",
    "                            cv2.putText(frame, key, (key_rect[0] + 10, key_rect[1] + 30), cv2.FONT_HERSHEY_SIMPLEX, 0.5, (0, 0, 0), 2)\n",
    "                            pt.press(key, interval=0.03)\n",
    "\n",
    "        # Resize the frame\n",
    "        frame = cv2.resize(frame, (1280, 720))\n",
    "        # Display the resulting frame\n",
    "        cv2.imshow('Virtual Keyboard', frame)\n",
    "\n",
    "        # Break the loop when 'ESC' key is pressed\n",
    "        if cv2.waitKey(1) == 27:\n",
    "            break\n",
    "\n",
    "    cap.release()\n",
    "    cv2.destroyAllWindows()"
   ]
  },
  {
   "cell_type": "code",
   "execution_count": 8,
   "metadata": {},
   "outputs": [],
   "source": [
    "if __name__ == \"__main__\":\n",
    "    main()"
   ]
  }
 ],
 "metadata": {
  "kernelspec": {
   "display_name": "Python 3",
   "language": "python",
   "name": "python3"
  },
  "language_info": {
   "codemirror_mode": {
    "name": "ipython",
    "version": 3
   },
   "file_extension": ".py",
   "mimetype": "text/x-python",
   "name": "python",
   "nbconvert_exporter": "python",
   "pygments_lexer": "ipython3",
   "version": "3.11.5"
  }
 },
 "nbformat": 4,
 "nbformat_minor": 2
}
